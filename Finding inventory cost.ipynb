{
  "metadata": {
    "language_info": {
      "codemirror_mode": {
        "name": "python",
        "version": 3
      },
      "file_extension": ".py",
      "mimetype": "text/x-python",
      "name": "python",
      "nbconvert_exporter": "python",
      "pygments_lexer": "ipython3",
      "version": "3.8"
    },
    "kernelspec": {
      "name": "python",
      "display_name": "Python (Pyodide)",
      "language": "python"
    }
  },
  "nbformat_minor": 4,
  "nbformat": 4,
  "cells": [
    {
      "cell_type": "code",
      "source": "#A plant class with name, cost and quantity attributes\n\nclass Plant:\n    def __init__(self,plant_name,plant_cost,plant_quantity):\n        self.plant_name = plant_name\n        self.plant_cost = plant_cost\n        self.plant_quantity = plant_quantity\n    def __str__(self): #print info about the statement\n        return f\" Plant name:{self.plant_name}\\n Cost:${self.plant_cost:.2f}\\n Quantity:{self.plant_quantity}\"\n#mehtod to find cost\n    def inventory_cost(self):\n        return self.plant_cost * self.plant_quantity\n\n",
      "metadata": {
        "tags": [],
        "trusted": true
      },
      "execution_count": 3,
      "outputs": []
    },
    {
      "cell_type": "code",
      "source": "#Prompt user for plant information\n#print(\"---Plant Information---\")\n#p_name = input(\"Enter the plant's name:\")\n#p_cost = float(input(\"Enter the plant's cost:\"))\n#p_quantity = int(input(\"Enter the numbers of plants:\"))\n\np_name = 'Fern'\np_cost = float(4.99)\np_quantity = int(5)\n\n#Create a Plant instance using our class\nmy_plant = Plant(p_name,p_cost, p_quantity)\n\n#Display the Plant information\nprint(\"\\n---Plant Information---\")\nprint(my_plant) #This will call our str from the Plant class\nprint(f\"The total inventory cost is: ${my_plant.inventory_cost():.2f}\")",
      "metadata": {
        "trusted": true
      },
      "execution_count": 4,
      "outputs": [
        {
          "name": "stdout",
          "text": "---Plant Information---\n\n---Plant Information---\n Plant name:Fern\n Cost:$4.99\n Quantity:5\nThe total inventory cost is: $24.95\n",
          "output_type": "stream"
        }
      ]
    }
  ]
}